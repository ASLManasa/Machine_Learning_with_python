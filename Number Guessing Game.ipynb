{
 "cells": [
  {
   "cell_type": "code",
   "execution_count": 1,
   "metadata": {},
   "outputs": [],
   "source": [
    "import math\n",
    "import random\n"
   ]
  },
  {
   "cell_type": "code",
   "execution_count": null,
   "metadata": {},
   "outputs": [],
   "source": []
  },
  {
   "cell_type": "code",
   "execution_count": null,
   "metadata": {},
   "outputs": [],
   "source": []
  },
  {
   "cell_type": "code",
   "execution_count": 2,
   "metadata": {},
   "outputs": [
    {
     "name": "stdout",
     "output_type": "stream",
     "text": [
      "Enter the Lower bound: 1\n",
      "Enter the upper bound: 10\n",
      "The number lies in between 1 and 10.\n",
      "You've only  3  chances to guess the integer!\n",
      "\n",
      "Enter the guessing value : 5\n",
      "oops.. you guessed too large.. try again..\n",
      "Enter the guessing value : 3\n",
      "oops.. you guessed too small.. try again..\n",
      "Enter the guessing value : 4\n",
      "Congratulations you did it in  3  try\n"
     ]
    }
   ],
   "source": [
    "Lower = int(input(\"Enter the Lower bound: \"))\n",
    "upper = int(input(\"Enter the upper bound: \"))\n",
    "print(\"The number lies in between {lower} and {upper}.\".format(lower=Lower,upper=upper))\n",
    "number = random.randint(Lower,upper)\n",
    "value = math.log(upper - Lower + 1, 2)\n",
    "print(\"You've only \", round(math.log(upper - Lower + 1, 2)), \" chances to guess the integer!\\n\")\n",
    "count =0\n",
    "while(count <value):\n",
    "    count+=1\n",
    "    guess = int(input(\"Enter the guessing value : \"))\n",
    "    if number == guess:\n",
    "        print(\"Congratulations you did it in \",count, \" try\")\n",
    "        break\n",
    "    elif number > guess:\n",
    "        print(\"oops.. you guessed too small.. try again..\")\n",
    "    elif number < guess:\n",
    "        print(\"oops.. you guessed too large.. try again..\")\n",
    "if count > value:\n",
    "    print(\"oops...chances over try again next time...\")\n",
    "        \n"
   ]
  },
  {
   "cell_type": "code",
   "execution_count": null,
   "metadata": {},
   "outputs": [],
   "source": []
  },
  {
   "cell_type": "code",
   "execution_count": null,
   "metadata": {},
   "outputs": [],
   "source": []
  }
 ],
 "metadata": {
  "kernelspec": {
   "display_name": "Python 3",
   "language": "python",
   "name": "python3"
  },
  "language_info": {
   "codemirror_mode": {
    "name": "ipython",
    "version": 3
   },
   "file_extension": ".py",
   "mimetype": "text/x-python",
   "name": "python",
   "nbconvert_exporter": "python",
   "pygments_lexer": "ipython3",
   "version": "3.8.5"
  }
 },
 "nbformat": 4,
 "nbformat_minor": 4
}
